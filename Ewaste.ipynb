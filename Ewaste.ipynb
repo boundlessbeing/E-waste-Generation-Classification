{
 "cells": [
  {
   "cell_type": "code",
   "execution_count": null,
   "id": "23c2bb15-f8d3-4a26-9690-0f8aa77e6c34",
   "metadata": {},
   "outputs": [],
   "source": [
    "\n",
    "import tensorflow as tf  # Core TensorFlow library\n",
    "\n",
    "from tensorflow.keras.models import Sequential\n",
    "\n",
    "from tensorflow.keras.layers import Dense\n",
    "\n",
    "from tensorflow.keras import layers, models, optimizers, callbacks  # Layers, model creation, optimizers, and training callbacks\n",
    "\n",
    "from tensorflow.keras.applications import EfficientNetV2B0\n",
    "\n",
    "from tensorflow.keras.applications.efficientnet_v2 import preprocess_input # Pretrained EfficientNetV2B0 model for transfer learning\n",
    "\n",
    "import numpy as np  # Numerical operations and array handling\n",
    "\n",
    "import matplotlib.pyplot as plt  # Plotting graphs and images\n",
    "\n",
    "import seaborn as sns  # Plotting graphs and images\n",
    "\n",
    "from sklearn.metrics import confusion_matrix, classification_report  # Evaluation metrics for classification models\n",
    "\n",
    "import gradio as gr  # Web interface library to deploy and test ML models\n",
    "\n",
    "from PIL import Image  # For image file loading and basic image operations"
   ]
  },
  {
   "cell_type": "code",
   "execution_count": 8,
   "id": "ae5bde86",
   "metadata": {},
   "outputs": [],
   "source": [
    "testpath = r\"test\"\n",
    "trainpath = r\"train\"\n",
    "valdpath = r\"val\""
   ]
  },
  {
   "cell_type": "code",
   "execution_count": null,
   "id": "ed199611",
   "metadata": {},
   "outputs": [],
   "source": [
    "datatrain = tf.keras.utils.image_dataset_from_directory(\n",
    "\ttrainpath,\n",
    "\tshuffle=True,\n",
    "\timage_size=(128, 128),\n",
    "\tbatch_size=32,\n",
    "\tvalidation_split=None\n",
    ")"
   ]
  },
  {
   "cell_type": "code",
   "execution_count": null,
   "id": "fdcbf7b9",
   "metadata": {},
   "outputs": [],
   "source": [
    "%pip install --upgrade tensorflow\n",
    "\n",
    "datatest = tf.keras.utils.image_dataset_from_directory(\n",
    "\ttestpath,\n",
    "\tshuffle=False,\n",
    "\timage_size=(128, 128),\n",
    "\tbatch_size=32,\n",
    "\tvalidation_split=None\n",
    ")"
   ]
  },
  {
   "cell_type": "code",
   "execution_count": null,
   "id": "dbf78db6",
   "metadata": {},
   "outputs": [],
   "source": [
    "# Ensure TensorFlow is imported and version is compatible\n",
    "print(\"TensorFlow version:\", tf.__version__)\n",
    "\n",
    "dataval = tf.keras.utils.image_dataset_from_directory(\n",
    "\tvaldpath,\n",
    "\tshuffle=True,\n",
    "\timage_size=(128, 128),\n",
    "\tbatch_size=32,\n",
    "\tvalidation_split=None\n",
    ")"
   ]
  },
  {
   "cell_type": "code",
   "execution_count": null,
   "id": "ed39fac7",
   "metadata": {},
   "outputs": [],
   "source": [
    "print(len(datatrain.class_names))\n",
    "class_names = datatrain.class_names\n",
    "print(class_names)"
   ]
  },
  {
   "cell_type": "code",
   "execution_count": null,
   "id": "6d4bbb8a",
   "metadata": {},
   "outputs": [],
   "source": [
    "# Set the size of the entire figure (width=10, height=10 inches)\n",
    "plt.figure(figsize=(10, 10))\n",
    "\n",
    "# Take one batch from the dataset and iterate over the images and labels\n",
    "for images, labels in datatrain.take(1):\n",
    "    # Display the first 12 images from the batch\n",
    "    for i in range(12):\n",
    "        # Create a 4x3 grid of subplots and select the (i+1)th position\n",
    "        ax = plt.subplot(4, 3, i + 1)\n",
    "\n",
    "        # Display the image; convert the tensor to a NumPy array and ensure correct type\n",
    "        plt.imshow(images[i].numpy().astype(\"uint8\"))\n",
    "\n",
    "        # Set the title of the subplot to the class name of the image\n",
    "        plt.title(class_names[labels[i]])\n",
    "\n",
    "        # Remove axis ticks and labels for clarity\n",
    "        plt.axis(\"off\")"
   ]
  },
  {
   "cell_type": "markdown",
   "id": "3155efcd",
   "metadata": {},
   "source": [
    "print(len(datatrain.class_names))\n",
    "class_names = datatrain.class_names\n",
    "print(class_names)"
   ]
  },
  {
   "cell_type": "markdown",
   "id": "31efb1e8",
   "metadata": {},
   "source": [
    "# Set the size of the entire figure (width=10, height=10 inches)\n",
    "plt.figure(figsize=(10, 10))\n",
    "\n",
    "# Take one batch from the dataset and iterate over the images and labels\n",
    "for images, labels in datatrain.take(1):\n",
    "    # Display the first 12 images from the batch\n",
    "    for i in range(12):\n",
    "        # Create a 4x3 grid of subplots and select the (i+1)th position\n",
    "        ax = plt.subplot(4, 3, i + 1)\n",
    "\n",
    "        # Display the image; convert the tensor to a NumPy array and ensure correct type\n",
    "        plt.imshow(images[i].numpy().astype(\"uint8\"))\n",
    "\n",
    "        # Set the title of the subplot to the class name of the image\n",
    "        plt.title(class_names[labels[i]])\n",
    "\n",
    "        # Remove axis ticks and labels for clarity\n",
    "        plt.axis(\"off\")"
   ]
  },
  {
   "cell_type": "code",
   "execution_count": null,
   "id": "fdc91373-74fa-4be3-a97e-453bde20da1d",
   "metadata": {},
   "outputs": [],
   "source": [
    "def plot_class_distribution(dataset, title=\"Class Distribution\"):\n",
    "    \"\"\"\n",
    "    Plots the number of items per class in a given dataset.\n",
    "\n",
    "    Args:\n",
    "        dataset: A tf.data.Dataset object created using image_dataset_from_directory\n",
    "        title: Title for the plot (e.g., 'Train Data Distribution')\n",
    "    \"\"\"\n",
    "\n",
    "    class_counts = {}  # Dictionary to hold the count of each class\n",
    "\n",
    "    # Iterate through the batches in the dataset\n",
    "    for images, labels in dataset:\n",
    "        # Convert labels tensor to numpy array and loop through each label\n",
    "        for label in labels.numpy():\n",
    "            class_name = dataset.class_names[label]  # Get class name using label index\n",
    "            # Increment the count for this class\n",
    "            class_counts[class_name] = class_counts.get(class_name, 0) + 1"
   ]
  },
  {
   "cell_type": "code",
   "execution_count": null,
   "id": "4f6fe13e",
   "metadata": {},
   "outputs": [],
   "source": [
    "# Compute class_counts for datatrain\n",
    "class_counts = {}\n",
    "for images, labels in datatrain:\n",
    "\tfor label in labels.numpy():\n",
    "\t\tclass_name = datatrain.class_names[label]\n",
    "\t\tclass_counts[class_name] = class_counts.get(class_name, 0) + 1\n",
    "\n",
    "# Prepare data for plotting\n",
    "class_names = list(class_counts.keys())  # List of class names\n",
    "counts = list(class_counts.values())     # Corresponding counts for each class"
   ]
  },
  {
   "cell_type": "code",
   "execution_count": null,
   "id": "ec7ee27a",
   "metadata": {},
   "outputs": [],
   "source": [
    "# Create the bar plot\n",
    "plt.figure(figsize=(10, 6))  # Set the figure size\n",
    "plt.bar(class_names, counts, color='skyblue')  # Draw bars with class counts\n",
    "plt.xlabel(\"Class\")  # X-axis label\n",
    "plt.ylabel(\"Number of Items\")  # Y-axis label\n",
    "plt.title(\"Class Distribution\")  # Plot title\n",
    "plt.xticks(rotation=45)  # Rotate x-axis labels for better readability\n",
    "plt.tight_layout()  # Adjust layout to prevent clipping\n",
    "plt.show()  # Display the plot"
   ]
  },
  {
   "cell_type": "code",
   "execution_count": null,
   "id": "f2ae2f08",
   "metadata": {},
   "outputs": [],
   "source": [
    "plot_class_distribution(datatrain, \"Training Data Distribution\")\n",
    "plot_class_distribution(dataval, \"Validation Data Distribution\")\n",
    "plot_class_distribution(datatest, \"Test Data Distribution\")"
   ]
  },
  {
   "cell_type": "code",
   "execution_count": null,
   "id": "d2301556",
   "metadata": {},
   "outputs": [],
   "source": [
    "data_augmentation = Sequential([\n",
    "    layers.RandomFlip(\"horizontal\"),\n",
    "    layers.RandomRotation(0.1),\n",
    "    layers.RandomZoom(0.1),\n",
    "])"
   ]
  },
  {
   "cell_type": "code",
   "execution_count": null,
   "id": "482b37be",
   "metadata": {},
   "outputs": [],
   "source": [
    "base_model = tf.keras.applications.EfficientNetV2B0(\n",
    "    input_shape=(128, 128, 3),\n",
    "    include_top=False,\n",
    "    weights='imagenet'\n",
    ")\n",
    "base_model.trainable = True\n",
    "for layer in base_model.layers[:100]:\n",
    "    layer.trainable = False"
   ]
  },
  {
   "cell_type": "code",
   "execution_count": null,
   "id": "a2b1027f",
   "metadata": {},
   "outputs": [],
   "source": [
    "model = tf.keras.Sequential([\n",
    "    tf.keras.layers.Input(shape=(128, 128, 3)),\n",
    "    data_augmentation,\n",
    "    base_model,\n",
    "    tf.keras.layers.GlobalAveragePooling2D(),\n",
    "    tf.keras.layers.Dropout(0.2),\n",
    "    tf.keras.layers.Dense(10, activation='softmax')\n",
    "])\n",
    "model.compile(optimizer=tf.keras.optimizers.Adam(learning_rate=0.0001),loss = tf.keras.losses.SparseCategoricalCrossentropy(), metrics=['Accuracy'])"
   ]
  },
  {
   "cell_type": "code",
   "execution_count": null,
   "id": "e7a3c8f2",
   "metadata": {},
   "outputs": [],
   "source": [
    "# Define an EarlyStopping callback to stop training when validation loss stops improving\n",
    "early = tf.keras.callbacks.EarlyStopping(\n",
    "    monitor='val_loss',            # Metric to monitor (validation loss here)\n",
    "    patience=3,                   # Number of epochs to wait after last improvement before stopping\n",
    "    restore_best_weights=True     # After stopping, restore the model weights from the epoch with the best val_loss\n",
    ")"
   ]
  },
  {
   "cell_type": "code",
   "execution_count": null,
   "id": "3199c9c3",
   "metadata": {},
   "outputs": [],
   "source": [
    "# Set the number of epochs to train the model\n",
    "epochs = 15\n",
    "\n",
    "# Train the model on the training dataset 'datatrain'\n",
    "history = model.fit(\n",
    "    datatrain,                      # Training data generator or dataset\n",
    "    validation_data=datavalid,      # Validation data generator or dataset\n",
    "    epochs=epochs,                  # Number of training epochs\n",
    "    batch_size=100,                 # Number of samples per gradient update\n",
    "    callbacks=[early]               # List of callbacks to apply during training (e.g., early stopping)\n",
    ")"
   ]
  },
  {
   "cell_type": "code",
   "execution_count": null,
   "id": "f0ce4d25",
   "metadata": {},
   "outputs": [],
   "source": [
    "model.summary() # Print the architecture summary of the  model"
   ]
  },
  {
   "cell_type": "code",
   "execution_count": null,
   "id": "b98ab7dd",
   "metadata": {},
   "outputs": [],
   "source": [
    "base_model.summary() # Print the architecture summary of the base model"
   ]
  },
  {
   "cell_type": "code",
   "execution_count": null,
   "id": "ee081c80",
   "metadata": {},
   "outputs": [],
   "source": [
    "### Plotting Training and Validation Accuracy and Loss Over Epochs\n",
    "\n",
    "acc = history.history['Accuracy']           # Training accuracy\n",
    "val_acc = history.history['val_Accuracy']   # Validation accuracy\n",
    "loss = history.history['loss']              # Training loss\n",
    "val_loss = history.history['val_loss']      # Validation loss"
   ]
  },
  {
   "cell_type": "code",
   "execution_count": null,
   "id": "4e1efb71",
   "metadata": {},
   "outputs": [],
   "source": [
    "epochs_range = range(len(acc))              # X-axis range based on number of epochs\n",
    "\n",
    "plt.figure(figsize=(10, 8))                 # Set overall figure size\n",
    "\n",
    "plt.subplot(1, 2, 1)                        # 1 row, 2 columns, position 1\n",
    "plt.plot(epochs_range, acc, label='Training Accuracy')       # Plot training accuracy\n",
    "plt.plot(epochs_range, val_acc, label='Validation Accuracy') # Plot validation accuracy\n",
    "plt.legend(loc='lower right')              # Show legend at lower right\n",
    "plt.title('Training vs Validation Accuracy') # Set title for accuracy plot\n",
    "\n",
    "plt.subplot(1, 2, 2)                        # 1 row, 2 columns, position 2\n",
    "plt.plot(epochs_range, loss, label='Training Loss')          # Plot training loss\n",
    "plt.plot(epochs_range, val_loss, label='Validation Loss')    # Plot validation loss\n",
    "plt.legend(loc='upper right')              # Show legend at upper right\n",
    "plt.title('Training vs Validation Loss')    # Set title for loss plot\n",
    "\n",
    "plt.show()                                  # Display the plots"
   ]
  },
  {
   "cell_type": "code",
   "execution_count": null,
   "id": "6c9473d2",
   "metadata": {},
   "outputs": [],
   "source": [
    "loss, accuracy = model.evaluate(datatest)\n",
    "print(f'Test accuracy is{accuracy:.4f}, Test loss is {loss:.4f}')"
   ]
  },
  {
   "cell_type": "code",
   "execution_count": null,
   "id": "69369a6c",
   "metadata": {},
   "outputs": [],
   "source": [
    "### Plot Confusion Matrix as Heatmap for Better Visualization\n",
    "\n",
    "cm = confusion_matrix(y_true, y_pred)                                     # Compute confusion matrix\n",
    "                                                     # Import seaborn for visualization\n",
    "\n",
    "plt.figure(figsize=(10, 8))                                               # Set figure size\n",
    "sns.heatmap(cm, annot=True, fmt='d', \n",
    "            xticklabels=class_names, \n",
    "            yticklabels=class_names, \n",
    "            cmap='Blues')                                                 # Create heatmap with class labels\n",
    "\n",
    "plt.xlabel('Predicted')                                                   # Label for x-axis\n",
    "plt.ylabel('True')                                                        # Label for y-axis\n",
    "plt.title('Confusion Matrix')                                             # Title for the plot\n",
    "plt.show()                                                                # Display the plot"
   ]
  },
  {
   "cell_type": "code",
   "execution_count": null,
   "id": "c976c3f8",
   "metadata": {},
   "outputs": [],
   "source": [
    "### Display Sample Predictions: True Labels vs Predicted Labels\n",
    "\n",
    "class_names = datatest.class_names                                           # Get class names from test dataset\n",
    "\n",
    "for images, labels in datatest.take(1):                                     # Take one batch from test data\n",
    "    predictions = model.predict(images)                                     # Predict class probabilities\n",
    "    pred_labels = tf.argmax(predictions, axis=1)                            # Get predicted class indices\n",
    "\n",
    "    for i in range(8):                                                      # Display first 8 images from batch\n",
    "        plt.imshow(images[i].numpy().astype(\"uint8\"))                       # Convert tensor to image\n",
    "        plt.title(f\"True: {class_names[labels[i]]}, Pred: {class_names[pred_labels[i]]}\")  # Title with labels\n",
    "        plt.axis(\"off\")                                                     # Hide axes\n",
    "        plt.show()                                                          # Show image"
   ]
  },
  {
   "cell_type": "code",
   "execution_count": null,
   "id": "daa9a0d2",
   "metadata": {},
   "outputs": [],
   "source": [
    "# Save model in Keras format with architecture, weights, and training configuration\n",
    "model.save('Efficient_classify.keras')"
   ]
  },
  {
   "cell_type": "code",
   "execution_count": null,
   "id": "1bf4af00",
   "metadata": {},
   "outputs": [],
   "source": [
    "# Define your class labels\n",
    "class_names = ['Battery', 'Keyboard', 'Microwave', 'Mobile', 'Mouse', 'PCB', 'Player', 'Printer', 'Television', 'Washing Machine']\n",
    "\n",
    "# Load your Keras model\n",
    "model = tf.keras.models.load_model('Efficient_classify.keras')"
   ]
  },
  {
   "cell_type": "code",
   "execution_count": null,
   "id": "d73356ca",
   "metadata": {},
   "outputs": [],
   "source": [
    "# Create a Gradio interface for the classify_image function\n",
    "iface = gr.Interface(\n",
    "    fn=classify_image,          # The function to run when input is given\n",
    "    inputs=gr.Image(type=\"pil\"), # Input component: expects an image as a PIL object\n",
    "    outputs=\"text\"              # Output component: displays the result as plain text\n",
    ")\n",
    "\n",
    "# Launch the Gradio interface, opening a local web app to interact with the model\n",
    "iface.launch()"
   ]
  }
 ],
 "metadata": {
  "kernelspec": {
   "display_name": "venv",
   "language": "python",
   "name": "python3"
  },
  "language_info": {
   "codemirror_mode": {
    "name": "ipython",
    "version": 3
   },
   "file_extension": ".py",
   "mimetype": "text/x-python",
   "name": "python",
   "nbconvert_exporter": "python",
   "pygments_lexer": "ipython3",
   "version": "3.12.4"
  }
 },
 "nbformat": 4,
 "nbformat_minor": 5
}
